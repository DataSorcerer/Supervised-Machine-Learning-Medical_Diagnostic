{
 "cells": [
  {
   "cell_type": "markdown",
   "metadata": {},
   "source": [
    "## Supervised Machine Learning: Model Training and Evaluation\n",
    "\n",
    "### Data loading and exploratory analysis\n",
    "\n",
    "1.\tThe Comma Separated Values (CSV) format data present in illness.txt file was loaded into a pandas data structure called data frame   \n",
    "2.\tSince, the data is column wise, it needed to be transposed to row wise representation.   \n",
    "3.\tAlso, the columns were assigned names to ease accessing any particular column for operations in future. Finally, first few rows were displayed to check if file is loaded correctly  \n"
   ]
  },
  {
   "cell_type": "code",
   "execution_count": 17,
   "metadata": {},
   "outputs": [
    {
     "data": {
      "text/html": [
       "<div>\n",
       "<style>\n",
       "    .dataframe thead tr:only-child th {\n",
       "        text-align: right;\n",
       "    }\n",
       "\n",
       "    .dataframe thead th {\n",
       "        text-align: left;\n",
       "    }\n",
       "\n",
       "    .dataframe tbody tr th {\n",
       "        vertical-align: top;\n",
       "    }\n",
       "</style>\n",
       "<table border=\"1\" class=\"dataframe\">\n",
       "  <thead>\n",
       "    <tr style=\"text-align: right;\">\n",
       "      <th></th>\n",
       "      <th>plasma_glucose</th>\n",
       "      <th>bp</th>\n",
       "      <th>test_result</th>\n",
       "      <th>skin_thickness</th>\n",
       "      <th>num_pregnancies</th>\n",
       "      <th>insulin</th>\n",
       "      <th>bmi</th>\n",
       "      <th>pedigree</th>\n",
       "      <th>age</th>\n",
       "    </tr>\n",
       "  </thead>\n",
       "  <tbody>\n",
       "    <tr>\n",
       "      <th>0</th>\n",
       "      <td>122</td>\n",
       "      <td>64</td>\n",
       "      <td>1</td>\n",
       "      <td>32</td>\n",
       "      <td>1</td>\n",
       "      <td>156</td>\n",
       "      <td>35.1</td>\n",
       "      <td>0.692</td>\n",
       "      <td>30</td>\n",
       "    </tr>\n",
       "    <tr>\n",
       "      <th>1</th>\n",
       "      <td>80</td>\n",
       "      <td>74</td>\n",
       "      <td>0</td>\n",
       "      <td>11</td>\n",
       "      <td>1</td>\n",
       "      <td>60</td>\n",
       "      <td>30</td>\n",
       "      <td>0.527</td>\n",
       "      <td>22</td>\n",
       "    </tr>\n",
       "    <tr>\n",
       "      <th>2</th>\n",
       "      <td>100</td>\n",
       "      <td>70</td>\n",
       "      <td>0</td>\n",
       "      <td>26</td>\n",
       "      <td>0</td>\n",
       "      <td>50</td>\n",
       "      <td>30.8</td>\n",
       "      <td>0.597</td>\n",
       "      <td>21</td>\n",
       "    </tr>\n",
       "    <tr>\n",
       "      <th>3</th>\n",
       "      <td>119</td>\n",
       "      <td>64</td>\n",
       "      <td>0</td>\n",
       "      <td>18</td>\n",
       "      <td>0</td>\n",
       "      <td>92</td>\n",
       "      <td>34.9</td>\n",
       "      <td>0.725</td>\n",
       "      <td>23</td>\n",
       "    </tr>\n",
       "    <tr>\n",
       "      <th>4</th>\n",
       "      <td>162</td>\n",
       "      <td>76</td>\n",
       "      <td>1</td>\n",
       "      <td>56</td>\n",
       "      <td>0</td>\n",
       "      <td>100</td>\n",
       "      <td>53.2</td>\n",
       "      <td>0.759</td>\n",
       "      <td>25</td>\n",
       "    </tr>\n",
       "  </tbody>\n",
       "</table>\n",
       "</div>"
      ],
      "text/plain": [
       "  plasma_glucose  bp  test_result skin_thickness num_pregnancies insulin  \\\n",
       "0            122  64            1             32               1     156   \n",
       "1             80  74            0             11               1      60   \n",
       "2            100  70            0             26               0      50   \n",
       "3            119  64            0             18               0      92   \n",
       "4            162  76            1             56               0     100   \n",
       "\n",
       "    bmi pedigree age  \n",
       "0  35.1    0.692  30  \n",
       "1    30    0.527  22  \n",
       "2  30.8    0.597  21  \n",
       "3  34.9    0.725  23  \n",
       "4  53.2    0.759  25  "
      ]
     },
     "execution_count": 17,
     "metadata": {},
     "output_type": "execute_result"
    }
   ],
   "source": [
    "import pandas as pd #load pandas library\n",
    "\n",
    "#Read CSV data from 'illness.txt' into a pandas data frame and transpose it\n",
    "dfMedicalTest = pd.read_csv('illness.txt', header=None).T\n",
    "#Assign column names\n",
    "dfMedicalTest.columns = [\"plasma_glucose\", \"bp\", \"test_result\", \"skin_thickness\", \"num_pregnancies\", \"insulin\", \"bmi\", \"pedigree\", \"age\"]\n",
    "dfMedicalTest.head(n = 3) #display first 3 rows\n",
    "\n",
    "#Replace string labels 'positive/ negative' with 1/0\n",
    "dfMedicalTest.replace('positive', 1, inplace=True)\n",
    "dfMedicalTest.replace('negative', 0, inplace=True)\n",
    "dfMedicalTest.head(n = 5)"
   ]
  },
  {
   "cell_type": "code",
   "execution_count": 2,
   "metadata": {},
   "outputs": [
    {
     "data": {
      "text/plain": [
       "False"
      ]
     },
     "execution_count": 2,
     "metadata": {},
     "output_type": "execute_result"
    }
   ],
   "source": [
    "#Check if dataframe contains any missing value\n",
    "dfMedicalTest.isnull().values.any()"
   ]
  },
  {
   "cell_type": "code",
   "execution_count": 2,
   "metadata": {},
   "outputs": [
    {
     "data": {
      "text/html": [
       "<div>\n",
       "<style>\n",
       "    .dataframe thead tr:only-child th {\n",
       "        text-align: right;\n",
       "    }\n",
       "\n",
       "    .dataframe thead th {\n",
       "        text-align: left;\n",
       "    }\n",
       "\n",
       "    .dataframe tbody tr th {\n",
       "        vertical-align: top;\n",
       "    }\n",
       "</style>\n",
       "<table border=\"1\" class=\"dataframe\">\n",
       "  <thead>\n",
       "    <tr style=\"text-align: right;\">\n",
       "      <th></th>\n",
       "      <th>test_result</th>\n",
       "    </tr>\n",
       "  </thead>\n",
       "  <tbody>\n",
       "    <tr>\n",
       "      <th>count</th>\n",
       "      <td>376.000000</td>\n",
       "    </tr>\n",
       "    <tr>\n",
       "      <th>mean</th>\n",
       "      <td>0.313830</td>\n",
       "    </tr>\n",
       "    <tr>\n",
       "      <th>std</th>\n",
       "      <td>0.464666</td>\n",
       "    </tr>\n",
       "    <tr>\n",
       "      <th>min</th>\n",
       "      <td>0.000000</td>\n",
       "    </tr>\n",
       "    <tr>\n",
       "      <th>25%</th>\n",
       "      <td>0.000000</td>\n",
       "    </tr>\n",
       "    <tr>\n",
       "      <th>50%</th>\n",
       "      <td>0.000000</td>\n",
       "    </tr>\n",
       "    <tr>\n",
       "      <th>75%</th>\n",
       "      <td>1.000000</td>\n",
       "    </tr>\n",
       "    <tr>\n",
       "      <th>max</th>\n",
       "      <td>1.000000</td>\n",
       "    </tr>\n",
       "  </tbody>\n",
       "</table>\n",
       "</div>"
      ],
      "text/plain": [
       "       test_result\n",
       "count   376.000000\n",
       "mean      0.313830\n",
       "std       0.464666\n",
       "min       0.000000\n",
       "25%       0.000000\n",
       "50%       0.000000\n",
       "75%       1.000000\n",
       "max       1.000000"
      ]
     },
     "execution_count": 2,
     "metadata": {},
     "output_type": "execute_result"
    }
   ],
   "source": [
    "dfMedicalTest.describe()"
   ]
  },
  {
   "cell_type": "markdown",
   "metadata": {},
   "source": [
    "### Spliting data into train/ test and validation set\n",
    "First, we split data into:   \n",
    "(a) training/ test data and   \n",
    "(b) Validation data (to be used after training/ testing is done)   \n",
    "**Note:** It is extremely important that trained model is validated with some previously held out unseen dataset, in order to evalaute the unbiased performance of the model."
   ]
  },
  {
   "cell_type": "code",
   "execution_count": 9,
   "metadata": {
    "collapsed": true
   },
   "outputs": [],
   "source": [
    "import numpy as np\n",
    "#Lock aside a 1/3rd of data (randomly sampled) for validation after training and testing the model\n",
    "dfMedicalTest_train, dfMedicalTest_validate = np.split(dfMedicalTest.sample(frac=1), [int((2/3)*len(dfMedicalTest))])\n",
    "X_train_data = np.array(dfMedicalTest_train.drop([\"test_result\"], 1)) #Store all features data for training set\n",
    "y_train_target = np.array(dfMedicalTest_train[\"test_result\"])         #Store only target class data for training set\n",
    "X_validate_data = np.array(dfMedicalTest_validate.drop([\"test_result\"], 1)) #Store all features data for validation set\n",
    "y_validate_target = np.array(dfMedicalTest_validate[\"test_result\"])   #Store only target class data for validation set"
   ]
  },
  {
   "cell_type": "markdown",
   "metadata": {},
   "source": [
    "### Training machine learning models\n",
    "\n",
    "#### Classifier 1: K-nearest neighbours (kNN)\n",
    "\n",
    "Nearest neighbours classifier learns about training data through induction. It simply stores the training data that it encounters and does not construct a target function beforehand. Once a new instance of data is presented, its  relationship with existing information is evaluated (often in terms of distance) and then the target function is assigned an appropriate value. In fact, such delayed processing of data is also known as lazy learning and kNN is one of the simplest exponent of this variant. Key steps for implementing simple version of kNN are:   \n",
    "1. *__Training: __* This phase involves identifying class label(s) and features (attributes) which are used to predict them and simply storing them.\n",
    "2. *__Parameter Selection:__* The value of parameter ‘k’ depends upon data to be classified. Generally, it is an odd number for binary classification problems in order to avoid conflicts in case of neighbours majority vote. Also, it is observed that higher the value of k (limited range), lesser tends to be the effect of noise on the model.\n",
    "3.\t*__Classification:__* A distance metric such as Euclidean distance is used to calculate proximity of test query with training data. Since, different features have different measures, it is better to normalize all of them to same scale in order to avoid one feature dominating distance metrics. A vote of k nearest neighbour is obtained and value of test class label is decided by the class value of majority of neighbours.   \n",
    "Type of distance metrics:   \n",
    "i. Manhattan distance   \n",
    "ii. Euclidean distance   \n",
    "iii. Hamming distance   \n",
    "iv. Cosine distance   \n",
    "Presenting unseen test instance to 9-NN classification model trained with 350 instances of illness data:   \n",
    "<img src=\"images/kNN.png\">\n",
    "\n",
    "*Scenarios where k-Nearest Neighbours classifier could be used:*   \n",
    "•\tWhen there are large number of instances available to learn and decision boundaries can get irregular\n",
    "•\tDimensions in data are limited to a small or moderate number (ideally < 20)\n",
    "\n",
    "**Applications:**   \n",
    "Highly successful in classifying handwritten digits, satellite image scenes and heart EKG patterns\n",
    "\n",
    "#### Classifier 2: Logistic Regression\n",
    "\n",
    "   Logistic Regression is one of the important statistical modelling techniques used to describe relationship between one or more independent variables (predictors/ explanatory variables) and one or more discrete valued output (dependent/ response) variables. The binomial (binary) logistic regression technique suits well our task of modelling a classifier with illness data for predicting whether the test results would be positive or negative (0 or 1).\n",
    " This classifier tries to build a hypothesis function to try to predict probability (or specifically odds) of a particular instance belonging to class 1 (positive/ true/ yes and so on) and not belonging to class 0 (negative/ false/ no, etc.).   \n",
    " \n",
    " <img src=\"images/LR1.png\">\n",
    " \n",
    " Since, we are not dealing with continuous outcomes, using hypothesis function similar to linear regression produces non-useful results. Also, the value of P(1|x) is observed to change gradually with change in x. In such a case, a logistic (also known as sigmoid) function instead of a linear function perfectly represents the relationship between hypothesis and expected value. Thus, hypothesis function can be formulated as:   \n",
    "<img src=\"images/LR2.png\">    \n",
    "<img src=\"images/LR3.png\">   \n",
    "<img src=\"images/LR4.png\">      "
   ]
  },
  {
   "cell_type": "markdown",
   "metadata": {},
   "source": [
    "### Model Construction & Evaluation\n",
    " - We use kNN and LogisticRegression implementations from Python scikit Learn package\n",
    " - 10-fold stratified cross validation is used so that each fold has similar distribution of +ve/ -ve classes as in complete data.    \n",
    " <img src=\"images/testdata.PNG\">"
   ]
  },
  {
   "cell_type": "code",
   "execution_count": 11,
   "metadata": {
    "collapsed": true
   },
   "outputs": [
    {
     "name": "stdout",
     "output_type": "stream",
     "text": [
      "Accuracy over Stratified 10-fold validation:\n",
      "1. k Nearest Neighbours =  0.768076923077 \n",
      "2. Logistic Regression =  0.747935897436 \n",
      "\n",
      "--------------------------------------------------------\n",
      "Confusion Matrix, Sensitivity (Recall) and Specificity: \n",
      "--------------------------------------------------------\n",
      "1. k Nearest Neighbours\n",
      " [[75  6]\n",
      " [27 18]] \tSensitivity =  0.735294117647 \tSpecificity =  0.75 \n",
      "\n",
      "2. Logistic Regression\n",
      " [[75  6]\n",
      " [26 19]] \tSensitivity =  0.742574257426 \tSpecificity =  0.76\n"
     ]
    }
   ],
   "source": [
    "from sklearn import neighbors, linear_model #Contains class definitions for k-Nearest neighbours and Logistic Regression\n",
    "from sklearn.model_selection import StratifiedKFold #to perform stratified 10 fold cross-validation\n",
    "import matplotlib.pyplot as plt   #to plot ROC curves\n",
    "from sklearn.metrics import confusion_matrix #to construct confusion matrix after training/ testing models\n",
    "\n",
    "skFold_scores_Logistic = []; skFold_scores_kNN = []  #to store accuracy scores across 10 folds and calculate their mean\n",
    "stratified_k_folds = StratifiedKFold(10, random_state=0) #Create 10 stratified folds\n",
    "\n",
    "LogisticClassifier = linear_model.LogisticRegression()  \n",
    "kNNclassifier = neighbors.KNeighborsClassifier(n_neighbors=9) #set number of nearest neighbours to 9\n",
    "#iterate over 10 folds while fitting the models\n",
    "for train_index, test_index in stratified_k_folds.split(X_train_data,y_train_target):\n",
    "    kNNclassifier.fit(X_train_data[train_index], y_train_target[train_index]) #train kNN classifer model\n",
    "    skFold_scores_kNN.append(kNNclassifier.score(X_train_data[test_index], y_train_target[test_index])) #store accuracies\n",
    "    \n",
    "for train_index, test_index in stratified_k_folds.split(X_train_data,y_train_target):\n",
    "    LogisticClassifier.fit(X_train_data[train_index], y_train_target[train_index]) #train Logistic Regression model\n",
    "    skFold_scores_Logistic.append(LogisticClassifier.score(X_train_data[test_index], y_train_target[test_index]))\n",
    "\n",
    "#Unlock validation dataset and test our models' prediction on unseen instances\n",
    "y_validate_predicted_Logistic = LogisticClassifier.predict(X_validate_data)\n",
    "y_validate_predicted_kNN = kNNclassifier.predict(X_validate_data)\n",
    "\n",
    "#Construct confusion matrix by comparing actual target values with respective predicted values\n",
    "confusion_matrix_kNN = confusion_matrix(y_validate_target, y_validate_predicted_kNN)\n",
    "confusion_matrix_Logistic = confusion_matrix(y_validate_target, y_validate_predicted_Logistic)\n",
    "#get true positive, false positive, false negative & true negative values from confusion matrix\n",
    "tp_kNN, fp_kNN, fn_kNN, tn_kNN = confusion_matrix_kNN.ravel()\n",
    "tp_Logistic, fp_Logistic, fn_Logistic, tn_Logistic = confusion_matrix_Logistic.ravel()\n"
   ]
  },
  {
   "cell_type": "markdown",
   "metadata": {},
   "source": [
    "### Model Performance Evaluation\n",
    "\n",
    "Confusion matrix, True positive rate, False positive rate, Sensitivity, Specificity and ROC curves are used to evaluate the performance of two models. \n",
    "#### Accuracy, Confusion matrix, Specificity and Sensitivity:"
   ]
  },
  {
   "cell_type": "code",
   "execution_count": 20,
   "metadata": {
    "scrolled": true
   },
   "outputs": [
    {
     "name": "stdout",
     "output_type": "stream",
     "text": [
      "Accuracy over Stratified 10-fold validation:\n",
      "1. k Nearest Neighbours =  0.768076923077 \n",
      "2. Logistic Regression =  0.747935897436 \n",
      "\n",
      "--------------------------------------------------------\n",
      "Confusion Matrix, Sensitivity (Recall) and Specificity: \n",
      "--------------------------------------------------------\n",
      "1. k Nearest Neighbours\n",
      " [[75  6]\n",
      " [27 18]] \n",
      "\n",
      "2. Logistic Regression\n",
      " [[75  6]\n",
      " [26 19]] \tSensitivity =  0.742574257426 \tSpecificity =  0.76\n"
     ]
    }
   ],
   "source": [
    "#Print metrics for kNN and Logistic Regression Classifers\n",
    "print(\"Accuracy over Stratified 10-fold validation:\\n1. k Nearest Neighbours = \", \\\n",
    "      np.mean(np.abs(skFold_scores_kNN)),\"\\n2. Logistic Regression = \", \\\n",
    "      np.mean(np.abs(skFold_scores_Logistic)), \\\n",
    "      \"\\n\\n--------------------------------------------------------\\nConfusion Matrix, \\\n",
    "      Sensitivity (Recall) and Specificity: \\n---------------------------------------------------\\\n",
    "      -----\\n1. k Nearest Neighbours\\n\", confusion_matrix_kNN,\"\\n\\n2. Logistic Regression\\n\", \\\n",
    "      confusion_matrix_Logistic, \"\\tSensitivity = \",tp_Logistic/(tp_Logistic + fn_Logistic),\\\n",
    "      \"\\tSpecificity = \",tn_Logistic/(tn_Logistic + fp_Logistic))\n"
   ]
  },
  {
   "cell_type": "markdown",
   "metadata": {},
   "source": [
    "#### ROC Curves\n",
    "\n",
    " - **Calculate Probability Estimates:** ROC curves are plotted using true positive and false positive rates which require comparing probabilities of predicting positive value with actual target value. Hence, probability estimates of predictions are calculated for both models using the previously held out test dataset.\n",
    " - **Compute TPR, FPR, Thresholds:** ‘roc_curve’ function computes the false positive rates, true positive rates and threshold values for binary classifiers. The increasing FPR and TPR values are calculated with decreasing threshold values on decision function. ROC Curves are a measure of trade-off between Sensitivity and Specificity typically for a binary classifier   \n",
    " <img src=\"images/Rates.png\">      \n",
    "- TPR and FPR are calculated at various threshold values starting from highest threshold to lowest. If the classifier score is greater than a threshold value, a positive label value is predicted; and if actual value is positive, it is considered as TP else FP. For increase in TPR, ROC curve moves along Y-axis and with increase in FPR, along X-axis. For e.g. consider 5 instances of test data with threshold value of 0.52. Here is the plot:   \n",
    " <img src=\"images/Calculation.png\">    \n",
    " - **Area Under Curve (AUC):** Area under Sensitivity vs. Fallout curve denotes the probability that the machine learning classification model will predict a random instance as positive than negative. It is also known as C-Score. In scikit-learn library, it can be calculated using ‘metrics.auc’ function which essentially computes it using trapezoidal rule.\n",
    " - **Plot ROC Curve:** Plotted ROC curve using Matplotlib library and setting Y-axis as Sensitivity (Recall/ True Positive Rate) and X-axis as 1 - Specificity (Fall out rate/ False positive rate). \n",
    " "
   ]
  },
  {
   "cell_type": "code",
   "execution_count": 16,
   "metadata": {},
   "outputs": [
    {
     "data": {
      "image/png": "[encoded data removed]",
      "text/plain": [
       "<matplotlib.figure.Figure at 0x266361307f0>"
      ]
     },
     "metadata": {},
     "output_type": "display_data"
    }
   ],
   "source": [
    "from sklearn import metrics\n",
    "#Predict probability estimates of the positive class on held out data using kNN classifier\n",
    "predictions_kNN = kNNclassifier.predict_proba(X_validate_data)[:,1]\n",
    "#Compute false positive, true positive rates, threshold values with actual label values and predicted probabilites\n",
    "fpr_kNN, tpr_kNN, threshold_kNN = metrics.roc_curve(y_validate_target, predictions_kNN)\n",
    "#Compute value of Area Under Curve for kNN classifier\n",
    "roc_auc_kNN = metrics.auc(fpr_kNN, tpr_kNN)\n",
    "\n",
    "#Predict probability estimates of the positive class on held out data using Logistic Regression classifier\n",
    "predictions_LR = LogisticClassifier.predict_proba(X_validate_data)[:,1]\n",
    "#Compute false positive, true positive rates, threshold values with actual label values and predicted probabilites\n",
    "fpr_LR, tpr_LR, threshold_LR = metrics.roc_curve(y_validate_target, predictions_LR)\n",
    "#Compute value of Area Under Curve for Logistic Regression classifier\n",
    "roc_auc_LR = metrics.auc(fpr_LR, tpr_LR)\n",
    "\n",
    "#Plot ROC curves for kNN and Logistic Regression classifiers using respective tpr and fpr\n",
    "import matplotlib.pyplot as plt\n",
    "plt.title('Receiver Operating Characteristic')\n",
    "plt.plot(fpr_kNN, tpr_kNN, 'b', label = 'kNN AUC = %0.2f' % roc_auc_kNN)\n",
    "plt.plot(fpr_LR, tpr_LR, 'b', label = 'Logistic AUC = %0.2f' % roc_auc_LR, color='orange')\n",
    "plt.legend(loc = 'lower right')\n",
    "plt.plot([0, 1], [0, 1],'r--') #Plot diagonal\n",
    "#Fit plot exactly between [0, 0] and [1, 1]\n",
    "plt.xlim([0, 1])\n",
    "plt.ylim([0, 1])\n",
    "plt.ylabel('True Positive Rate')\n",
    "plt.xlabel('False Positive Rate')\n",
    "plt.show()\n"
   ]
  },
  {
   "cell_type": "markdown",
   "metadata": {},
   "source": [
    "### Observations\n",
    "\n",
    "**Based on ROC curves:**   \n",
    "Some of the significant observations that can be made from above ROC curves are:\n",
    "1.\t**__Better than random classifier: __**\n",
    "\n",
    "      The points on diagonal represent predictions by a random guessing classifier. The diagonal segregates the ROC space into regions with prediction better and worse than random guessing. The points lying above this ‘line of no-discrimination’ are considered to be better classifiers due to low FPR and high TPR. In our case, ROC curves of both the classifiers are much in the top region which points towards better than random guess.\n",
    "\n",
    "2.\t**__Logistic Regression Classifier performed better than kNN Classifier (higher AUC):__** \n",
    "\n",
    "      It is seen from the graph that, higher the number of points in top left corner, higher is the TPR (Sensitivity) and lower is the FPR (higher Specificity). So, a curve passing through these points would have a higher area under it. Higher Area Under Curve (AUC) denotes that a model correctly predicts a positive instance with high confidence (assigns high probability to true positive cases). In our case, we see that AUC for Logistic Regression classifier (0.82) is higher than that for kNN (0.76). Considering that ideal classifier has AUC = 1, and Logistic regression ROC curve seems to be dominating towards 1 and thus is better when tested with this randomly sampled 1/3rd of dataset (validation set). Result is likely to vary with different random set.\n",
    "\n",
    "3.\t**__Determination of Optimal Cut-off value (Threshold):__**\n",
    "\n",
    "The purpose of training classifiers over illness dataset is to predict where medical test results are positive or negative. Hence, it becomes imperative that we have high Sensitivity as well as Specificity. i.e. less number of false negatives and high number of true positives is much desired. As we see in the graph alongside, threshold values of classifiers at points shown yield highest specificity as well as sensitivity. These points are nearest to (1, 1) i.e. highest specificity as well as sensitivity and are most likely to correctly predict true positives.   \n",
    "   \n",
    "<img src=\"images/Threshold.png\">      \n",
    "\n",
    "4.\t**__Trade-off between Sensitivity and Specificity:__**\n",
    "\n",
    "In case of our graphs, we see curve for Logistic Regression grazing top axis and thus better at predicting true positives and less false negatives (better sensitivity than specificity). Generally, in situations where high sensitivity (more true positives) is desired over specificity, we seek ROC curve skewed more nearer to top axis and in cases where low false positives (high specificity) are required, a skew towards left axis is preferred. In case of medical test like this, false negatives can be fatal and thus high recall is desirous.\n",
    "\n",
    "#### Comparing kNN and Logistic regression performances\n",
    "Comparing model performances on the basis of following criteria:\n",
    "\n",
    "1.\t**__Misclassification Error:__** Both the classifiers with current selection of parameters perform almost similarly on accuracy metric. Std. Dev. suggests low variance in findings\n",
    "2.\t**__Confusion matrix:__** Since, the models predict medical test results, sensitivity (recall) and specificity are more relevant measures than accuracy as low sensitivity would mean less true positives and more false negatives which could have adverse consequences for the patients. Logistic regression performs slightly better here.\n",
    "3.\t**__Logarithmic Loss:__** Logistic regression reports a better log-loss value suggesting high confidence in correctly classifying positive cases whereas kNN appears more confident in incorrectly classifying them. \n",
    "\n"
   ]
  }
 ],
 "metadata": {
  "kernelspec": {
   "display_name": "Python 3",
   "language": "python",
   "name": "python3"
  },
  "language_info": {
   "codemirror_mode": {
    "name": "ipython",
    "version": 3
   },
   "file_extension": ".py",
   "mimetype": "text/x-python",
   "name": "python",
   "nbconvert_exporter": "python",
   "pygments_lexer": "ipython3",
   "version": "3.6.3"
  },
  "toc": {
   "nav_menu": {},
   "number_sections": true,
   "sideBar": true,
   "skip_h1_title": false,
   "title_cell": "Table of Contents",
   "title_sidebar": "Contents",
   "toc_cell": false,
   "toc_position": {},
   "toc_section_display": true,
   "toc_window_display": true
  }
 },
 "nbformat": 4,
 "nbformat_minor": 2
}
